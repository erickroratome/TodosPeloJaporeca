#**O que é fine-tuning?**
#Fine-tuning é o processo de pegar um modelo de ia já treinado em uma grande quantidade de dados e ajustá-lo para uma tarefa específica. isso economiza tempo e recursos, já que não é necessário treinar o modelo do zero.
#
#Como funciona?
#O modelo é primeiro treinado em um grande conjunto de dados (ex: textos gerais).
#Depois, ele é ajustado com um conjunto de dados menor e mais específico (ex: textos médicos), para que ele se especialize em uma área.


#**O que é jailbreak?**
#Jailbreak em ia refere-se a técnicas usadas para "enganar" o modelo de ia a gerar respostas que normalmente seriam bloqueadas por questões de segurança ou ética.

#Como funciona?
#Algumas vezes, as pessoas formulam perguntas de forma criativa ou confusa para fazer o modelo gerar respostas que, de outra forma, ele não deveria.
#O objetivo é contornar as restrições e gerar saídas potencialmente perigosas ou inadequadas.

